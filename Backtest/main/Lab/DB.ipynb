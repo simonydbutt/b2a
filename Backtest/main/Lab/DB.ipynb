{
 "cells": [
  {
   "cell_type": "markdown",
   "metadata": {},
   "source": [
    "# Backtest DB Manage/Monitor "
   ]
  },
  {
   "cell_type": "code",
   "execution_count": 1,
   "metadata": {
    "collapsed": true
   },
   "outputs": [],
   "source": [
    "from pymongo import MongoClient, DESCENDING\n",
    "import pandas as pd\n",
    "import os\n",
    "from datetime import datetime\n",
    "\n",
    "os.chdir('../../..')"
   ]
  },
  {
   "cell_type": "code",
   "execution_count": 2,
   "metadata": {},
   "outputs": [
    {
     "data": {
      "text/plain": [
       "['CheapVol_ProfitRun',\n 'admin',\n 'binance',\n 'bitmex',\n 'config',\n 'local',\n 'poloniex']"
      ]
     },
     "execution_count": 2,
     "metadata": {},
     "output_type": "execute_result"
    }
   ],
   "source": [
    "client = MongoClient('localhost', 27017)\n",
    "client.database_names()"
   ]
  },
  {
   "cell_type": "markdown",
   "metadata": {},
   "source": [
    "### DB Stats"
   ]
  },
  {
   "cell_type": "code",
   "execution_count": 3,
   "metadata": {},
   "outputs": [],
   "source": [
    "def _getDate(ts):\n",
    "    return datetime.utcfromtimestamp(ts).strftime('%Y-%m-%d')\n",
    "\n",
    "def colStats(dbName, colName):\n",
    "    col = client[dbName][colName]\n",
    "    print('%s: %s \\t %s -> %s\\n' % (colName, col.count(), _getDate(col.find_one()['TS']), \n",
    "                                _getDate(list(col.find().sort('TS', DESCENDING).limit(1))[0]['TS'])))\n",
    "    print('Example document: \\n%s' % col.find_one())\n",
    "    \n",
    "    \n",
    "def dbStats(dbName, limit=None):\n",
    "    print('For DB: %s' % dbName)\n",
    "    collectionList = client[dbName].collection_names()\n",
    "    print('Number of collections: %s' % len(collectionList))\n",
    "    for colName in collectionList if not limit else collectionList[:limit]:\n",
    "        col = client[dbName][colName]\n",
    "        print('%s: %s \\t %s -> %s' % (colName, col.count(), _getDate(col.find_one()['TS']), \n",
    "                                   _getDate(list(col.find().sort('TS', DESCENDING).limit(1))[0]['TS'])))\n",
    "    "
   ]
  },
  {
   "cell_type": "code",
   "execution_count": 4,
   "metadata": {},
   "outputs": [
    {
     "name": "stdout",
     "output_type": "stream",
     "text": [
      "ADAU18_1d: 95 \t 2018-06-19 -> 2018-09-21\n\nExample document: \n{'_id': ObjectId('5ba62680b21c1c23a7a9a4d4'), 'timestamp': '2018-06-20T00:00:00.000Z', 'symbol': 'ADAU18', 'open': 2.516e-05, 'high': 0.0002452, 'low': 2.323e-05, 'close': 2.616e-05, 'trades': 194, 'volume': 884483, 'vwap': 2.7e-05, 'lastSize': 5000, 'turnover': 2387297102, 'homeNotional': 884483, 'foreignNotional': 23.87297102, 'TS': 1529449200}\n"
     ]
    }
   ],
   "source": [
    "colStats('bitmex', 'ADAU18_1d')"
   ]
  },
  {
   "cell_type": "code",
   "execution_count": 5,
   "metadata": {},
   "outputs": [
    {
     "data": {
      "text/plain": [
       "{'_id': ObjectId('5ba62680b21c1c23a7a9a4d4'),\n 'timestamp': '2018-06-20T00:00:00.000Z',\n 'symbol': 'ADAU18',\n 'open': 2.516e-05,\n 'high': 0.0002452,\n 'low': 2.323e-05,\n 'close': 2.616e-05,\n 'trades': 194,\n 'volume': 884483,\n 'vwap': 2.7e-05,\n 'lastSize': 5000,\n 'turnover': 2387297102,\n 'homeNotional': 884483,\n 'foreignNotional': 23.87297102,\n 'TS': 1529449200}"
      ]
     },
     "execution_count": 5,
     "metadata": {},
     "output_type": "execute_result"
    }
   ],
   "source": [
    "client['bitmex']['ADAU18_1d'].find_one()"
   ]
  },
  {
   "cell_type": "code",
   "execution_count": 9,
   "metadata": {
    "collapsed": true
   },
   "outputs": [
    {
     "name": "stdout",
     "output_type": "stream",
     "text": [
      "For DB: bitmex\nNumber of collections: 63\nTRXU18_5m: 25125 \t 2018-06-27 -> 2018-09-22\nBCHU18_1h: 2286 \t 2018-06-19 -> 2018-09-22\nEOSZ18_1h: 33 \t 2018-09-21 -> 2018-09-22\nETHUSD_5m: 14742 \t 2018-08-02 -> 2018-09-22\nADAU18_1h: 2286 \t 2018-06-19 -> 2018-09-22\nLTCU18_1h: 2286 \t 2018-06-19 -> 2018-09-22\nLTCU18_5m: 27436 \t 2018-06-19 -> 2018-09-22\nTRXU18_1h: 2093 \t 2018-06-27 -> 2018-09-22\nXRPU18_1h: 2286 \t 2018-06-19 -> 2018-09-22\nXRPU18_1d: 95 \t 2018-06-19 -> 2018-09-21\nETHZ18_1h: 33 \t 2018-09-21 -> 2018-09-22\nLTCU18_1d: 95 \t 2018-06-19 -> 2018-09-21\nADAZ18_5m: 396 \t 2018-09-21 -> 2018-09-22\nXBTUSD_1h: 26264 \t 2015-09-25 -> 2018-09-22\nXBT7D_U105_5m: 30565 \t 2018-06-08 -> 2018-09-22\nXBTUSD_1d: 1094 \t 2015-09-25 -> 2018-09-21\nBCHZ18_5m: 396 \t 2018-09-21 -> 2018-09-22\nEOSU18_5m: 27430 \t 2018-06-19 -> 2018-09-22\nTRXZ18_1d: 1 \t 2018-09-21 -> 2018-09-21\nETHU18_1h: 2286 \t 2018-06-19 -> 2018-09-22\nXBT7D_U105_1d: 106 \t 2018-06-08 -> 2018-09-21\nEOSZ18_5m: 396 \t 2018-09-21 -> 2018-09-22\nETHU18_5m: 27436 \t 2018-06-19 -> 2018-09-22\nXBTZ18_1h: 1980 \t 2018-07-02 -> 2018-09-22\nTRXZ18_5m: 396 \t 2018-09-21 -> 2018-09-22\nXBTUSD_5m: 315188 \t 2015-09-25 -> 2018-09-22\nTRXZ18_1h: 33 \t 2018-09-21 -> 2018-09-22\nTRXU18_1d: 87 \t 2018-06-27 -> 2018-09-21\nADAZ18_1d: 1 \t 2018-09-21 -> 2018-09-21\nEOSU18_1h: 2286 \t 2018-06-19 -> 2018-09-22\nBCHZ18_1h: 33 \t 2018-09-21 -> 2018-09-22\nXBT7D_D95_5m: 30566 \t 2018-06-08 -> 2018-09-22\nETHU18_1d: 95 \t 2018-06-19 -> 2018-09-21\nXBTU18_5m: 50536 \t 2018-03-31 -> 2018-09-22\nXRPZ18_5m: 396 \t 2018-09-21 -> 2018-09-22\nXBTU18_1h: 4210 \t 2018-03-31 -> 2018-09-22\nETHUSD_1h: 1227 \t 2018-08-02 -> 2018-09-22\nXRPZ18_1d: 1 \t 2018-09-21 -> 2018-09-21\nETHZ18_5m: 402 \t 2018-09-21 -> 2018-09-22\nBCHU18_1d: 95 \t 2018-06-19 -> 2018-09-21\nXRPZ18_1h: 33 \t 2018-09-21 -> 2018-09-22\nEOSZ18_1d: 1 \t 2018-09-21 -> 2018-09-21\nBCHU18_5m: 27429 \t 2018-06-19 -> 2018-09-22\nXBT7D_D95_1d: 106 \t 2018-06-08 -> 2018-09-21\nXBT7D_U105_1h: 2546 \t 2018-06-08 -> 2018-09-22\nADAU18_1d: 95 \t 2018-06-19 -> 2018-09-21\nXBT7D_D95_1h: 2546 \t 2018-06-08 -> 2018-09-22\nLTCZ18_1h: 33 \t 2018-09-21 -> 2018-09-22\nXBTZ18_5m: 23776 \t 2018-07-02 -> 2018-09-22\nXBTU18_1d: 175 \t 2018-03-31 -> 2018-09-21\nEOSU18_1d: 95 \t 2018-06-19 -> 2018-09-21\nXBTH19_1d: 5 \t 2018-09-17 -> 2018-09-21\nETHUSD_1d: 51 \t 2018-08-02 -> 2018-09-21\nLTCZ18_1d: 1 \t 2018-09-21 -> 2018-09-21\nADAU18_5m: 27430 \t 2018-06-19 -> 2018-09-22\nXBTH19_5m: 1545 \t 2018-09-17 -> 2018-09-22\nXBTZ18_1d: 82 \t 2018-07-02 -> 2018-09-21\n"
     ]
    },
    {
     "name": "stdout",
     "output_type": "stream",
     "text": [
      "BCHZ18_1d: 1 \t 2018-09-21 -> 2018-09-21\nXBTH19_1h: 128 \t 2018-09-17 -> 2018-09-22\nADAZ18_1h: 33 \t 2018-09-21 -> 2018-09-22\nLTCZ18_5m: 402 \t 2018-09-21 -> 2018-09-22\nETHZ18_1d: 1 \t 2018-09-21 -> 2018-09-21\nXRPU18_5m: 27429 \t 2018-06-19 -> 2018-09-22\n"
     ]
    }
   ],
   "source": [
    "dbStats('bitmex')"
   ]
  },
  {
   "cell_type": "code",
   "execution_count": null,
   "metadata": {},
   "outputs": [],
   "source": []
  }
 ],
 "metadata": {
  "kernelspec": {
   "display_name": "Python 3",
   "language": "python",
   "name": "python3"
  },
  "language_info": {
   "codemirror_mode": {
    "name": "ipython",
    "version": 3
   },
   "file_extension": ".py",
   "mimetype": "text/x-python",
   "name": "python",
   "nbconvert_exporter": "python",
   "pygments_lexer": "ipython3",
   "version": "3.6.1"
  }
 },
 "nbformat": 4,
 "nbformat_minor": 2
}
